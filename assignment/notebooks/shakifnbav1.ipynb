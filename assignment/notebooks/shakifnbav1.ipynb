{
  "nbformat": 4,
  "nbformat_minor": 0,
  "metadata": {
    "colab": {
      "provenance": []
    },
    "kernelspec": {
      "name": "python3",
      "display_name": "Python 3"
    },
    "language_info": {
      "name": "python"
    }
  },
  "cells": [
    {
      "cell_type": "code",
      "execution_count": 1,
      "metadata": {
        "colab": {
          "base_uri": "https://localhost:8080/"
        },
        "id": "pP57-Ar2jHn9",
        "outputId": "a0152c67-7816-4088-9b1e-1a12823f2323"
      },
      "outputs": [
        {
          "output_type": "stream",
          "name": "stdout",
          "text": [
            "Requirement already satisfied: pandas in /usr/local/lib/python3.10/dist-packages (2.2.2)\n",
            "Requirement already satisfied: numpy in /usr/local/lib/python3.10/dist-packages (1.26.4)\n",
            "Requirement already satisfied: scikit-learn in /usr/local/lib/python3.10/dist-packages (1.5.2)\n",
            "Requirement already satisfied: matplotlib in /usr/local/lib/python3.10/dist-packages (3.8.0)\n",
            "Requirement already satisfied: seaborn in /usr/local/lib/python3.10/dist-packages (0.13.2)\n",
            "Requirement already satisfied: python-dateutil>=2.8.2 in /usr/local/lib/python3.10/dist-packages (from pandas) (2.8.2)\n",
            "Requirement already satisfied: pytz>=2020.1 in /usr/local/lib/python3.10/dist-packages (from pandas) (2024.2)\n",
            "Requirement already satisfied: tzdata>=2022.7 in /usr/local/lib/python3.10/dist-packages (from pandas) (2024.2)\n",
            "Requirement already satisfied: scipy>=1.6.0 in /usr/local/lib/python3.10/dist-packages (from scikit-learn) (1.13.1)\n",
            "Requirement already satisfied: joblib>=1.2.0 in /usr/local/lib/python3.10/dist-packages (from scikit-learn) (1.4.2)\n",
            "Requirement already satisfied: threadpoolctl>=3.1.0 in /usr/local/lib/python3.10/dist-packages (from scikit-learn) (3.5.0)\n",
            "Requirement already satisfied: contourpy>=1.0.1 in /usr/local/lib/python3.10/dist-packages (from matplotlib) (1.3.1)\n",
            "Requirement already satisfied: cycler>=0.10 in /usr/local/lib/python3.10/dist-packages (from matplotlib) (0.12.1)\n",
            "Requirement already satisfied: fonttools>=4.22.0 in /usr/local/lib/python3.10/dist-packages (from matplotlib) (4.55.0)\n",
            "Requirement already satisfied: kiwisolver>=1.0.1 in /usr/local/lib/python3.10/dist-packages (from matplotlib) (1.4.7)\n",
            "Requirement already satisfied: packaging>=20.0 in /usr/local/lib/python3.10/dist-packages (from matplotlib) (24.2)\n",
            "Requirement already satisfied: pillow>=6.2.0 in /usr/local/lib/python3.10/dist-packages (from matplotlib) (11.0.0)\n",
            "Requirement already satisfied: pyparsing>=2.3.1 in /usr/local/lib/python3.10/dist-packages (from matplotlib) (3.2.0)\n",
            "Requirement already satisfied: six>=1.5 in /usr/local/lib/python3.10/dist-packages (from python-dateutil>=2.8.2->pandas) (1.16.0)\n"
          ]
        }
      ],
      "source": [
        "# NBA Prediction Data Sci Model\n",
        "# Install required libraries\n",
        "!pip install pandas numpy scikit-learn matplotlib seaborn"
      ]
    },
    {
      "cell_type": "code",
      "source": [
        "import pandas as pd\n",
        "import numpy as np\n",
        "import matplotlib.pyplot as plt\n",
        "import seaborn as sns\n",
        "from sklearn.model_selection import train_test_split, GridSearchCV, RandomizedSearchCV\n",
        "from sklearn.ensemble import RandomForestClassifier\n",
        "from sklearn.metrics import roc_auc_score, confusion_matrix, roc_curve, auc"
      ],
      "metadata": {
        "id": "HBIfk8Fjjj9h"
      },
      "execution_count": 2,
      "outputs": []
    },
    {
      "cell_type": "code",
      "source": [
        "# Naming files (update with your actual file paths)\n",
        "train_file = \"/content/NBA_train.csv\"\n",
        "test_file = \"/content/NBA_test.csv\"\n",
        "sample_submission_file = \"/content/NBA_sample_submission.csv\" #to cross-check final file vs. sample submission"
      ],
      "metadata": {
        "id": "gftE6yK5jlI0"
      },
      "execution_count": 4,
      "outputs": []
    },
    {
      "cell_type": "code",
      "source": [
        "# Step 1: Initial Setup and Data Understanding\n",
        "# Load the datasets\n",
        "train_df = pd.read_csv(train_file)\n",
        "test_df = pd.read_csv(test_file)"
      ],
      "metadata": {
        "id": "bWtOEoXWkEW8"
      },
      "execution_count": 5,
      "outputs": []
    },
    {
      "cell_type": "code",
      "source": [
        "# summary train dataset\n",
        "print(\"Train Dataset Info:\\n\")\n",
        "print(train_df.info())\n",
        "print(\"\\nTrain Dataset Head:\\n\", train_df.head())"
      ],
      "metadata": {
        "colab": {
          "base_uri": "https://localhost:8080/"
        },
        "id": "BaBUBfTxkNsU",
        "outputId": "49d05635-f704-492d-a3d6-21bc190b408a"
      },
      "execution_count": 7,
      "outputs": [
        {
          "output_type": "stream",
          "name": "stdout",
          "text": [
            "Train Dataset Info:\n",
            "\n",
            "<class 'pandas.core.frame.DataFrame'>\n",
            "RangeIndex: 8000 entries, 0 to 7999\n",
            "Data columns (total 21 columns):\n",
            " #   Column       Non-Null Count  Dtype  \n",
            "---  ------       --------------  -----  \n",
            " 0   Id           8000 non-null   int64  \n",
            " 1   GP           8000 non-null   int64  \n",
            " 2   MIN          8000 non-null   float64\n",
            " 3   PTS          8000 non-null   float64\n",
            " 4   FGM          8000 non-null   float64\n",
            " 5   FGA          8000 non-null   float64\n",
            " 6   FG%          8000 non-null   float64\n",
            " 7   3P Made      8000 non-null   float64\n",
            " 8   3PA          8000 non-null   float64\n",
            " 9   3P%          8000 non-null   float64\n",
            " 10  FTM          8000 non-null   float64\n",
            " 11  FTA          8000 non-null   float64\n",
            " 12  FT%          8000 non-null   float64\n",
            " 13  OREB         8000 non-null   float64\n",
            " 14  DREB         8000 non-null   float64\n",
            " 15  REB          8000 non-null   float64\n",
            " 16  AST          8000 non-null   float64\n",
            " 17  STL          8000 non-null   float64\n",
            " 18  BLK          8000 non-null   float64\n",
            " 19  TOV          8000 non-null   float64\n",
            " 20  TARGET_5Yrs  8000 non-null   int64  \n",
            "dtypes: float64(18), int64(3)\n",
            "memory usage: 1.3 MB\n",
            "None\n",
            "\n",
            "Train Dataset Head:\n",
            "      Id  GP   MIN   PTS  FGM  FGA   FG%  3P Made  3PA   3P%  ...  FTA   FT%  \\\n",
            "0  3799  80  24.3   7.8  3.0  6.4  45.7      0.1  0.3  22.6  ...  2.9  72.1   \n",
            "1  3800  75  21.8  10.5  4.2  7.9  55.1     -0.3 -1.0  34.9  ...  3.6  67.8   \n",
            "2  3801  85  19.1   4.5  1.9  4.5  42.8      0.4  1.2  34.3  ...  0.6  75.7   \n",
            "3  3802  63  19.1   8.2  3.5  6.7  52.5      0.3  0.8  23.7  ...  1.5  66.9   \n",
            "4  3803  63  17.8   3.7  1.7  3.4  50.8      0.5  1.4  13.7  ...  0.5  54.0   \n",
            "\n",
            "   OREB  DREB  REB  AST  STL  BLK  TOV  TARGET_5Yrs  \n",
            "0   2.2   2.0  3.8  3.2  1.1  0.2  1.6            1  \n",
            "1   3.6   3.7  6.6  0.7  0.5  0.6  1.4            1  \n",
            "2   0.6   1.8  2.4  0.8  0.4  0.2  0.6            1  \n",
            "3   0.8   2.0  3.0  1.8  0.4  0.1  1.9            1  \n",
            "4   2.4   2.7  4.9  0.4  0.4  0.6  0.7            1  \n",
            "\n",
            "[5 rows x 21 columns]\n"
          ]
        }
      ]
    },
    {
      "cell_type": "code",
      "source": [
        "# summary test dataset\n",
        "print(\"Test Dataset Info:\\n\")\n",
        "print(test_df.info())\n",
        "print(\"\\nTest Dataset Head:\\n\", test_df.head())"
      ],
      "metadata": {
        "colab": {
          "base_uri": "https://localhost:8080/"
        },
        "id": "keiJQTgEkWFj",
        "outputId": "d2a78a0a-5305-4cbe-9c38-3b041c7259e5"
      },
      "execution_count": 8,
      "outputs": [
        {
          "output_type": "stream",
          "name": "stdout",
          "text": [
            "Test Dataset Info:\n",
            "\n",
            "<class 'pandas.core.frame.DataFrame'>\n",
            "RangeIndex: 3799 entries, 0 to 3798\n",
            "Data columns (total 20 columns):\n",
            " #   Column   Non-Null Count  Dtype  \n",
            "---  ------   --------------  -----  \n",
            " 0   Id       3799 non-null   int64  \n",
            " 1   GP       3799 non-null   int64  \n",
            " 2   MIN      3799 non-null   float64\n",
            " 3   PTS      3799 non-null   float64\n",
            " 4   FGM      3799 non-null   float64\n",
            " 5   FGA      3799 non-null   float64\n",
            " 6   FG%      3799 non-null   float64\n",
            " 7   3P Made  3799 non-null   float64\n",
            " 8   3PA      3799 non-null   float64\n",
            " 9   3P%      3799 non-null   float64\n",
            " 10  FTM      3799 non-null   float64\n",
            " 11  FTA      3799 non-null   float64\n",
            " 12  FT%      3799 non-null   float64\n",
            " 13  OREB     3799 non-null   float64\n",
            " 14  DREB     3799 non-null   float64\n",
            " 15  REB      3799 non-null   float64\n",
            " 16  AST      3799 non-null   float64\n",
            " 17  STL      3799 non-null   float64\n",
            " 18  BLK      3799 non-null   float64\n",
            " 19  TOV      3799 non-null   float64\n",
            "dtypes: float64(18), int64(2)\n",
            "memory usage: 593.7 KB\n",
            "None\n",
            "\n",
            "Test Dataset Head:\n",
            "    Id  GP   MIN   PTS  FGM   FGA   FG%  3P Made  3PA   3P%  FTM  FTA   FT%  \\\n",
            "0   0  56   9.1   4.0  1.6   3.7  43.7      0.1  0.3   7.3  0.7  1.2  63.4   \n",
            "1   1  43  19.3  10.1  3.7   8.1  46.0      0.6  1.7  35.1  1.8  2.5  75.3   \n",
            "2   2  82  33.9  11.3  4.9  10.6  45.6      0.5  1.9  44.8  1.8  2.7  71.2   \n",
            "3   3  86  44.7  18.8  6.8  15.9  42.9      0.5  1.8  13.5  4.5  6.3  70.9   \n",
            "4   4  58  12.3   4.7  1.6   4.0  40.0      0.5  1.7  38.7  1.1  1.3  76.9   \n",
            "\n",
            "   OREB  DREB  REB  AST  STL  BLK  TOV  \n",
            "0   1.2   0.8  1.7  0.4  0.2  0.3  0.8  \n",
            "1   0.5   0.9  1.5  3.5  0.6  0.0  1.8  \n",
            "2   1.3   3.3  4.5  2.5  1.3  0.3  2.0  \n",
            "3   1.5   3.2  5.0  4.1  0.9  0.1  3.6  \n",
            "4   0.2   0.6  0.9  1.5  0.5 -0.4  0.9  \n"
          ]
        }
      ]
    },
    {
      "cell_type": "code",
      "source": [
        "# Check missing values\n",
        "print(\"\\nMissing Values in Train Dataset:\\n\", train_df.isnull().sum())\n",
        "print(\"\\nMissing Values in Test Dataset:\\n\", test_df.isnull().sum())"
      ],
      "metadata": {
        "colab": {
          "base_uri": "https://localhost:8080/"
        },
        "id": "U-TnGKSNlLcj",
        "outputId": "a5f4ddbd-d10e-44b4-a162-458415924f2e"
      },
      "execution_count": 9,
      "outputs": [
        {
          "output_type": "stream",
          "name": "stdout",
          "text": [
            "\n",
            "Missing Values in Train Dataset:\n",
            " Id             0\n",
            "GP             0\n",
            "MIN            0\n",
            "PTS            0\n",
            "FGM            0\n",
            "FGA            0\n",
            "FG%            0\n",
            "3P Made        0\n",
            "3PA            0\n",
            "3P%            0\n",
            "FTM            0\n",
            "FTA            0\n",
            "FT%            0\n",
            "OREB           0\n",
            "DREB           0\n",
            "REB            0\n",
            "AST            0\n",
            "STL            0\n",
            "BLK            0\n",
            "TOV            0\n",
            "TARGET_5Yrs    0\n",
            "dtype: int64\n",
            "\n",
            "Missing Values in Test Dataset:\n",
            " Id         0\n",
            "GP         0\n",
            "MIN        0\n",
            "PTS        0\n",
            "FGM        0\n",
            "FGA        0\n",
            "FG%        0\n",
            "3P Made    0\n",
            "3PA        0\n",
            "3P%        0\n",
            "FTM        0\n",
            "FTA        0\n",
            "FT%        0\n",
            "OREB       0\n",
            "DREB       0\n",
            "REB        0\n",
            "AST        0\n",
            "STL        0\n",
            "BLK        0\n",
            "TOV        0\n",
            "dtype: int64\n"
          ]
        }
      ]
    },
    {
      "cell_type": "code",
      "source": [
        "# Visualise target variable distribution\n",
        "sns.countplot(x='TARGET_5Yrs', data=train_df)\n",
        "plt.title(\"Target Variable Distribution\")\n",
        "plt.show()"
      ],
      "metadata": {
        "colab": {
          "base_uri": "https://localhost:8080/",
          "height": 472
        },
        "id": "KxAgfRdPl1vG",
        "outputId": "a8a7362e-a468-4654-bca3-8e1f6e262432"
      },
      "execution_count": 11,
      "outputs": [
        {
          "output_type": "display_data",
          "data": {
            "text/plain": [
              "<Figure size 640x480 with 1 Axes>"
            ],
            "image/png": "[encoded data removed]"
          },
          "metadata": {}
        }
      ]
    }
  ]
}